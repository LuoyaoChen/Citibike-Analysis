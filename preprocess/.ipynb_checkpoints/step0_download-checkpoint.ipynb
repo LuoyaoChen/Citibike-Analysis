{
 "cells": [
  {
   "cell_type": "code",
   "execution_count": 1,
   "id": "f10b7f1d",
   "metadata": {
    "executionInfo": {
     "elapsed": 239,
     "status": "ok",
     "timestamp": 1651433892865,
     "user": {
      "displayName": "You Wang",
      "userId": "13167334059082326174"
     },
     "user_tz": 240
    },
    "id": "f10b7f1d"
   },
   "outputs": [],
   "source": [
    "import requests\n",
    "import os\n",
    "import shutil\n",
    "import zipfile\n",
    "from os.path import join, getsize\n",
    "import pandas as pd\n",
    "import numpy as np\n",
    "from threading import Thread\n",
    "from concurrent.futures import ThreadPoolExecutor\n",
    "import time"
   ]
  },
  {
   "cell_type": "code",
   "execution_count": 3,
   "id": "387cbc08",
   "metadata": {
    "executionInfo": {
     "elapsed": 245,
     "status": "ok",
     "timestamp": 1651433894089,
     "user": {
      "displayName": "You Wang",
      "userId": "13167334059082326174"
     },
     "user_tz": 240
    },
    "id": "387cbc08"
   },
   "outputs": [],
   "source": [
    "# create the file list\n",
    "\n",
    "monthlst = ['202102','202103','202104','202105','202106',\n",
    "           '202107','202108','202109','202110','202111','202112']\n",
    "\n",
    "file_path_lst = ['https://s3.amazonaws.com/tripdata/{x}-citibike-tripdata.csv.zip'.format(x = m) for m in monthlst] "
   ]
  },
  {
   "cell_type": "code",
   "execution_count": 4,
   "id": "15b53487",
   "metadata": {
    "executionInfo": {
     "elapsed": 215,
     "status": "ok",
     "timestamp": 1651433895480,
     "user": {
      "displayName": "You Wang",
      "userId": "13167334059082326174"
     },
     "user_tz": 240
    },
    "id": "15b53487"
   },
   "outputs": [],
   "source": [
    "# this function downloads a zip file, unzip it and store it in the 'data' folder\n",
    "def download(path):\n",
    "    r = requests.get(path, allow_redirects=True)\n",
    "    zip_path = path.split('/')[-1]\n",
    "    with open(zip_path, \"wb\") as code:\n",
    "        code.write(r.content)\n",
    "        \n",
    "    t = zipfile.is_zipfile(zip_path)\n",
    "    if t:     \n",
    "        fz = zipfile.ZipFile(zip_path)\n",
    "        for file in fz.namelist():\n",
    "            fz.extract(file,'data') "
   ]
  },
  {
   "cell_type": "code",
   "execution_count": 5,
   "id": "d2666931",
   "metadata": {
    "executionInfo": {
     "elapsed": 34234,
     "status": "ok",
     "timestamp": 1651433932270,
     "user": {
      "displayName": "You Wang",
      "userId": "13167334059082326174"
     },
     "user_tz": 240
    },
    "id": "d2666931"
   },
   "outputs": [],
   "source": [
    "# we use multi-threading to optimize the download process\n",
    "\n",
    "start_time = time.time()\n",
    "\n",
    "with ThreadPoolExecutor(max_workers = 16) as ex:\n",
    "    ex.map(download,file_path_lst)\n",
    "    \n",
    "end_time = time.time() "
   ]
  },
  {
   "cell_type": "code",
   "execution_count": 6,
   "id": "_48YJvouIZ9-",
   "metadata": {
    "colab": {
     "base_uri": "https://localhost:8080/"
    },
    "executionInfo": {
     "elapsed": 218,
     "status": "ok",
     "timestamp": 1651433936640,
     "user": {
      "displayName": "You Wang",
      "userId": "13167334059082326174"
     },
     "user_tz": 240
    },
    "id": "_48YJvouIZ9-",
    "outputId": "6bdf4a76-3e18-419a-96bf-511fd32fee1d"
   },
   "outputs": [
    {
     "name": "stdout",
     "output_type": "stream",
     "text": [
      "Time for threading: 72.87994289398193secs\n"
     ]
    }
   ],
   "source": [
    "print(\"Time for threading: % ssecs\" % (end_time - start_time))"
   ]
  },
  {
   "cell_type": "code",
   "execution_count": 7,
   "id": "1a363a09",
   "metadata": {
    "colab": {
     "base_uri": "https://localhost:8080/"
    },
    "executionInfo": {
     "elapsed": 81942,
     "status": "ok",
     "timestamp": 1651434035507,
     "user": {
      "displayName": "You Wang",
      "userId": "13167334059082326174"
     },
     "user_tz": 240
    },
    "id": "1a363a09",
    "outputId": "89517d94-8048-46ae-cb06-59306ae13e62"
   },
   "outputs": [
    {
     "data": {
      "text/plain": [
       "-138.1012156009674"
      ]
     },
     "execution_count": 7,
     "metadata": {},
     "output_type": "execute_result"
    }
   ],
   "source": [
    "# serial version\n",
    "\n",
    "start_time = time.time()\n",
    "for file in file_path_lst:\n",
    "    download(file)\n",
    "end_time = time.time() "
   ]
  },
  {
   "cell_type": "code",
   "execution_count": 8,
   "id": "37e4fb5d",
   "metadata": {
    "id": "37e4fb5d"
   },
   "outputs": [
    {
     "name": "stdout",
     "output_type": "stream",
     "text": [
      "Time for serial: 138.1012156009674secs\n"
     ]
    }
   ],
   "source": [
    "print(\"Time for serial: % ssecs\" % (end_time - start_time))"
   ]
  },
  {
   "cell_type": "code",
   "execution_count": null,
   "id": "a8adc668",
   "metadata": {},
   "outputs": [],
   "source": []
  }
 ],
 "metadata": {
  "colab": {
   "collapsed_sections": [],
   "name": "step0_download.ipynb",
   "provenance": []
  },
  "kernelspec": {
   "display_name": "Python 3",
   "language": "python",
   "name": "python3"
  },
  "language_info": {
   "codemirror_mode": {
    "name": "ipython",
    "version": 3
   },
   "file_extension": ".py",
   "mimetype": "text/x-python",
   "name": "python",
   "nbconvert_exporter": "python",
   "pygments_lexer": "ipython3",
   "version": "3.8.8"
  }
 },
 "nbformat": 4,
 "nbformat_minor": 5
}
