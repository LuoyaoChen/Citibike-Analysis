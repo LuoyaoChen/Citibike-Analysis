{
 "cells": [
  {
   "cell_type": "code",
   "execution_count": 1,
   "id": "b7580677",
   "metadata": {
    "executionInfo": {
     "elapsed": 1036,
     "status": "ok",
     "timestamp": 1651434089194,
     "user": {
      "displayName": "You Wang",
      "userId": "13167334059082326174"
     },
     "user_tz": 240
    },
    "id": "b7580677"
   },
   "outputs": [],
   "source": [
    "import pandas as pd\n",
    "import numpy as np\n",
    "import matplotlib.pyplot as plt\n",
    "import datetime\n",
    "import seaborn as sns"
   ]
  },
  {
   "cell_type": "code",
   "execution_count": null,
   "id": "14ea2101",
   "metadata": {
    "id": "14ea2101"
   },
   "outputs": [],
   "source": [
    "# dt= pd.read_csv('202109-citibike-tripdata.csv')"
   ]
  },
  {
   "cell_type": "code",
   "execution_count": null,
   "id": "612a1a14",
   "metadata": {
    "id": "612a1a14"
   },
   "outputs": [],
   "source": [
    "# create new columns to extract date and hour\n",
    "\n",
    "# dt['started_date'] = dt['started_at'].apply(lambda x: x[:10])\n",
    "# dt['ended_date'] = dt['ended_at'].apply(lambda x: x[:10])"
   ]
  },
  {
   "cell_type": "code",
   "execution_count": null,
   "id": "e06696e0",
   "metadata": {
    "id": "e06696e0"
   },
   "outputs": [],
   "source": [
    "# filer out the recoreds with null value, the recoreds with same started date and ended date, the records ended hour larger than started hour\n",
    "\n",
    "# dt['started_hour'] = pd.to_datetime(dt.started_at).dt.hour\n",
    "# dt['ended_hour'] = pd.to_datetime(dt.ended_at).dt.hour\n",
    "# filter_dt= dt[dt['started_date'] == dt['ended_date']]\n",
    "# filter_dt= filter_dt[filter_dt['started_at']< filter_dt['ended_at']] \n",
    "# filter_dt= filter_dt.dropna(axis=0, how='any')"
   ]
  },
  {
   "cell_type": "code",
   "execution_count": null,
   "id": "588800fc",
   "metadata": {
    "id": "588800fc"
   },
   "outputs": [],
   "source": [
    "# filter out the date without 24 hours records \n",
    "\n",
    "# temp= filter_dt.groupby(by=['started_date'], as_index=False)['started_hour'].nunique()\n",
    "# temp.loc[temp['started_hour'] !=24,'started_date'].values "
   ]
  },
  {
   "cell_type": "code",
   "execution_count": null,
   "id": "d93d7799",
   "metadata": {
    "id": "d93d7799"
   },
   "outputs": [],
   "source": [
    "# filter_dt.to_csv('202109_cleaned.csv')"
   ]
  },
  {
   "cell_type": "markdown",
   "id": "8426a3a0",
   "metadata": {
    "id": "8426a3a0"
   },
   "source": [
    "### Function"
   ]
  },
  {
   "cell_type": "code",
   "execution_count": 2,
   "id": "2732edd3",
   "metadata": {
    "executionInfo": {
     "elapsed": 5,
     "status": "ok",
     "timestamp": 1651434089195,
     "user": {
      "displayName": "You Wang",
      "userId": "13167334059082326174"
     },
     "user_tz": 240
    },
    "id": "2732edd3"
   },
   "outputs": [],
   "source": [
    "def preprocess(file):\n",
    "    dt= pd.read_csv(file)\n",
    "    filename = file.split('.')[0].split('/')[1]\n",
    "    \n",
    "    # create new columns to extract date and hour\n",
    "    dt['started_date'] = dt['started_at'].apply(lambda x: x[:10])\n",
    "    dt['ended_date'] = dt['ended_at'].apply(lambda x: x[:10])\n",
    "    \n",
    "    # filer out the recoreds with null value, the recoreds with same started date and ended date, the records ended hour larger than started hour\n",
    "    dt['started_hour'] = pd.to_datetime(dt.started_at).dt.hour\n",
    "    dt['ended_hour'] = pd.to_datetime(dt.ended_at).dt.hour\n",
    "    filter_dt= dt[dt['started_date'] == dt['ended_date']]\n",
    "    filter_dt= filter_dt[filter_dt['started_at']< filter_dt['ended_at']] \n",
    "    filter_dt= filter_dt.dropna(axis=0, how='any')\n",
    "    \n",
    "    # filter out the date without 24 hours records\n",
    "    temp= filter_dt.groupby(by=['started_date'], as_index=False)['started_hour'].nunique()\n",
    "    temp_arr = temp.loc[temp['started_hour'] !=24,'started_date'].values \n",
    "    for date in temp_arr:\n",
    "        final_dt= filter_dt[((filter_dt['started_date'] != date) & (filter_dt['started_date'] != date))]\n",
    "        \n",
    "    # output the preprocessed file\n",
    "    filter_dt.to_csv('data/preprocessed/' + filename + \"_pre_analyzed.csv\")"
   ]
  },
  {
   "cell_type": "code",
   "execution_count": 4,
   "id": "6d68645c",
   "metadata": {
    "executionInfo": {
     "elapsed": 3,
     "status": "ok",
     "timestamp": 1651434089195,
     "user": {
      "displayName": "You Wang",
      "userId": "13167334059082326174"
     },
     "user_tz": 240
    },
    "id": "6d68645c"
   },
   "outputs": [
    {
     "name": "stdout",
     "output_type": "stream",
     "text": [
      "The autoreload extension is already loaded. To reload it, use:\n",
      "  %reload_ext autoreload\n"
     ]
    }
   ],
   "source": [
    "import time\n",
    "\n",
    "%load_ext autoreload\n",
    "%autoreload 2\n",
    "from multiprocessing import Pool\n",
    "# from helper2 import preprocess"
   ]
  },
  {
   "cell_type": "code",
   "execution_count": 5,
   "id": "62feb1ab",
   "metadata": {},
   "outputs": [],
   "source": [
    "paths = ['data/202102-citibike-tripdata.csv',\n",
    "        'data/202103-citibike-tripdata.csv',\n",
    "        'data/202104-citibike-tripdata.csv',\n",
    "        'data/202105-citibike-tripdata.csv',\n",
    "        'data/202106-citibike-tripdata.csv',\n",
    "        'data/202107-citibike-tripdata.csv',\n",
    "        'data/202108-citibike-tripdata.csv',\n",
    "        'data/202109-citibike-tripdata.csv',\n",
    "        'data/202110-citibike-tripdata.csv',\n",
    "        'data/202111-citibike-tripdata.csv',\n",
    "        'data/202112-citibike-tripdata.csv',]"
   ]
  },
  {
   "cell_type": "markdown",
   "id": "85c4a0be",
   "metadata": {
    "id": "85c4a0be"
   },
   "source": [
    "#### Original Version"
   ]
  },
  {
   "cell_type": "code",
   "execution_count": 8,
   "id": "157f93d3",
   "metadata": {
    "colab": {
     "base_uri": "https://localhost:8080/",
     "height": 398
    },
    "executionInfo": {
     "elapsed": 355,
     "status": "error",
     "timestamp": 1651434090160,
     "user": {
      "displayName": "You Wang",
      "userId": "13167334059082326174"
     },
     "user_tz": 240
    },
    "id": "157f93d3",
    "outputId": "2fbe8049-ca28-4590-edff-6b08b0c0fe58",
    "scrolled": true
   },
   "outputs": [
    {
     "name": "stderr",
     "output_type": "stream",
     "text": [
      "C:\\ANACONDA\\lib\\site-packages\\IPython\\core\\interactiveshell.py:3357: DtypeWarning: Columns (5,7) have mixed types.Specify dtype option on import or set low_memory=False.\n",
      "  if (await self.run_code(code, result,  async_=asy)):\n",
      "C:\\ANACONDA\\lib\\site-packages\\IPython\\core\\interactiveshell.py:3357: DtypeWarning: Columns (5,7) have mixed types.Specify dtype option on import or set low_memory=False.\n",
      "  if (await self.run_code(code, result,  async_=asy)):\n",
      "C:\\ANACONDA\\lib\\site-packages\\IPython\\core\\interactiveshell.py:3357: DtypeWarning: Columns (5,7) have mixed types.Specify dtype option on import or set low_memory=False.\n",
      "  if (await self.run_code(code, result,  async_=asy)):\n",
      "C:\\ANACONDA\\lib\\site-packages\\IPython\\core\\interactiveshell.py:3357: DtypeWarning: Columns (5,7) have mixed types.Specify dtype option on import or set low_memory=False.\n",
      "  if (await self.run_code(code, result,  async_=asy)):\n",
      "C:\\ANACONDA\\lib\\site-packages\\IPython\\core\\interactiveshell.py:3357: DtypeWarning: Columns (7) have mixed types.Specify dtype option on import or set low_memory=False.\n",
      "  if (await self.run_code(code, result,  async_=asy)):\n",
      "C:\\ANACONDA\\lib\\site-packages\\IPython\\core\\interactiveshell.py:3357: DtypeWarning: Columns (7) have mixed types.Specify dtype option on import or set low_memory=False.\n",
      "  if (await self.run_code(code, result,  async_=asy)):\n",
      "C:\\ANACONDA\\lib\\site-packages\\IPython\\core\\interactiveshell.py:3357: DtypeWarning: Columns (7) have mixed types.Specify dtype option on import or set low_memory=False.\n",
      "  if (await self.run_code(code, result,  async_=asy)):\n",
      "C:\\ANACONDA\\lib\\site-packages\\IPython\\core\\interactiveshell.py:3357: DtypeWarning: Columns (7) have mixed types.Specify dtype option on import or set low_memory=False.\n",
      "  if (await self.run_code(code, result,  async_=asy)):\n",
      "C:\\ANACONDA\\lib\\site-packages\\IPython\\core\\interactiveshell.py:3357: DtypeWarning: Columns (5,7) have mixed types.Specify dtype option on import or set low_memory=False.\n",
      "  if (await self.run_code(code, result,  async_=asy)):\n",
      "C:\\ANACONDA\\lib\\site-packages\\IPython\\core\\interactiveshell.py:3357: DtypeWarning: Columns (5,7) have mixed types.Specify dtype option on import or set low_memory=False.\n",
      "  if (await self.run_code(code, result,  async_=asy)):\n",
      "C:\\ANACONDA\\lib\\site-packages\\IPython\\core\\interactiveshell.py:3357: DtypeWarning: Columns (5,7) have mixed types.Specify dtype option on import or set low_memory=False.\n",
      "  if (await self.run_code(code, result,  async_=asy)):\n"
     ]
    },
    {
     "name": "stdout",
     "output_type": "stream",
     "text": [
      "411.69458174705505\n"
     ]
    }
   ],
   "source": [
    "start = time.time()\n",
    "for file in paths:\n",
    "    preprocess(file)\n",
    "end = time.time()\n",
    "\n",
    "print(end - start)"
   ]
  },
  {
   "cell_type": "markdown",
   "id": "b7990046",
   "metadata": {
    "id": "b7990046"
   },
   "source": [
    "#### Multiprocessing"
   ]
  },
  {
   "cell_type": "code",
   "execution_count": 9,
   "id": "c6941a9e",
   "metadata": {
    "colab": {
     "base_uri": "https://localhost:8080/",
     "height": 960
    },
    "executionInfo": {
     "elapsed": 325,
     "status": "error",
     "timestamp": 1651434100681,
     "user": {
      "displayName": "You Wang",
      "userId": "13167334059082326174"
     },
     "user_tz": 240
    },
    "id": "c6941a9e",
    "outputId": "ca06cb80-4c96-483c-943b-325f3a4d2a9d"
   },
   "outputs": [
    {
     "name": "stdout",
     "output_type": "stream",
     "text": [
      "192.97419357299805\n"
     ]
    }
   ],
   "source": [
    "start = time.time()\n",
    "with Pool(16) as pool: \n",
    "    re= pool.map(preprocess, paths)\n",
    "end = time.time()  \n",
    "print(end-start)"
   ]
  },
  {
   "cell_type": "code",
   "execution_count": null,
   "id": "0481117b",
   "metadata": {
    "colab": {
     "base_uri": "https://localhost:8080/"
    },
    "executionInfo": {
     "elapsed": 166,
     "status": "ok",
     "timestamp": 1650764019175,
     "user": {
      "displayName": "Yue Feng",
      "userId": "09355983551713727384"
     },
     "user_tz": 240
    },
    "id": "0481117b",
    "outputId": "a4a3ceb9-0ebd-4b92-8266-ce7a8fd5ee62"
   },
   "outputs": [],
   "source": []
  },
  {
   "cell_type": "code",
   "execution_count": null,
   "id": "M9EMhw8BM83g",
   "metadata": {
    "id": "M9EMhw8BM83g"
   },
   "outputs": [],
   "source": []
  }
 ],
 "metadata": {
  "colab": {
   "name": "step1_preprocess1.ipynb",
   "provenance": []
  },
  "kernelspec": {
   "display_name": "Python 3",
   "language": "python",
   "name": "python3"
  },
  "language_info": {
   "codemirror_mode": {
    "name": "ipython",
    "version": 3
   },
   "file_extension": ".py",
   "mimetype": "text/x-python",
   "name": "python",
   "nbconvert_exporter": "python",
   "pygments_lexer": "ipython3",
   "version": "3.8.8"
  }
 },
 "nbformat": 4,
 "nbformat_minor": 5
}
