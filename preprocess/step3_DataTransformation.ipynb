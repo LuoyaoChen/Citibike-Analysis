{
 "cells": [
  {
   "cell_type": "code",
   "execution_count": 12,
   "id": "76776c08",
   "metadata": {
    "executionInfo": {
     "elapsed": 1440,
     "status": "ok",
     "timestamp": 1650909726151,
     "user": {
      "displayName": "Luoyao Chen",
      "userId": "00843896582985485225"
     },
     "user_tz": 240
    },
    "id": "76776c08"
   },
   "outputs": [],
   "source": [
    "import pandas as pd\n",
    "import numpy as np\n",
    "import time"
   ]
  },
  {
   "cell_type": "code",
   "execution_count": null,
   "id": "440230f7",
   "metadata": {
    "id": "440230f7"
   },
   "outputs": [],
   "source": [
    "# raw_dt= pd.read_csv('data/202107-citibike-tripdata_pre_analyzed.csv')\n",
    "# station_cluster = pd.read_csv('intersection_station_cluster.csv') \n",
    "# cluster_dict = dict(zip(station_cluster['station_id'], station_cluster['cluster']))"
   ]
  },
  {
   "cell_type": "code",
   "execution_count": null,
   "id": "8bc98dfc",
   "metadata": {
    "id": "8bc98dfc"
   },
   "outputs": [],
   "source": [
    "# month_dt= raw_dt[(raw_dt['start_station_id'].isin(station_cluster['station_id']) )& (raw_dt['end_station_id'].isin(station_cluster['station_id']))]\n",
    "# month_dt['start_station_id']= month_dt['start_station_id'].map(cluster_dict)\n",
    "# month_dt['end_station_id']= month_dt['end_station_id'].map(cluster_dict)\n",
    "# date_ls= sorted(list(month_dt['started_date'].unique())) "
   ]
  },
  {
   "cell_type": "code",
   "execution_count": 13,
   "id": "ab156403",
   "metadata": {
    "id": "ab156403"
   },
   "outputs": [],
   "source": [
    "paths = ['data/preprocessed/202102-citibike-tripdata_pre_analyzed.csv',\n",
    "        'data/preprocessed/202103-citibike-tripdata_pre_analyzed.csv',\n",
    "        'data/preprocessed/202104-citibike-tripdata_pre_analyzed.csv',\n",
    "         'data/preprocessed/202105-citibike-tripdata_pre_analyzed.csv',\n",
    "        'data/preprocessed/202106-citibike-tripdata_pre_analyzed.csv',\n",
    "         'data/preprocessed/202107-citibike-tripdata_pre_analyzed.csv',\n",
    "        'data/preprocessed/202108-citibike-tripdata_pre_analyzed.csv',\n",
    "        'data/preprocessed/202109-citibike-tripdata_pre_analyzed.csv',\n",
    "         'data/preprocessed/202110-citibike-tripdata_pre_analyzed.csv',\n",
    "        'data/preprocessed/202111-citibike-tripdata_pre_analyzed.csv',\n",
    "        'data/preprocessed/202112-citibike-tripdata_pre_analyzed.csv']"
   ]
  },
  {
   "cell_type": "code",
   "execution_count": 14,
   "id": "82bf6fe9",
   "metadata": {
    "executionInfo": {
     "elapsed": 134,
     "status": "ok",
     "timestamp": 1650910335708,
     "user": {
      "displayName": "Luoyao Chen",
      "userId": "00843896582985485225"
     },
     "user_tz": 240
    },
    "id": "82bf6fe9"
   },
   "outputs": [],
   "source": [
    "def create_hour_csv(path):\n",
    "    \n",
    "    raw_dt= pd.read_csv(path)\n",
    "    station_cluster = pd.read_csv('intersection_station_cluster.csv') \n",
    "    cluster_dict = dict(zip(station_cluster['station_id'], \n",
    "                            station_cluster['cluster']))\n",
    "    \n",
    "    month_dt= raw_dt[(raw_dt['start_station_id'].isin(station_cluster['station_id']) )& (raw_dt['end_station_id'].isin(station_cluster['station_id']))]\n",
    "    month_dt['start_station_id']= month_dt['start_station_id'].map(cluster_dict)\n",
    "    month_dt['end_station_id']= month_dt['end_station_id'].map(cluster_dict)\n",
    "    date_ls= sorted(list(month_dt['started_date'].unique())) \n",
    "    \n",
    "    ##############################################################################\n",
    "    \n",
    "    month_matrix=[]\n",
    "    hour_ls=[]\n",
    "    full_date_ls=[]\n",
    "    \n",
    "    \n",
    "    for date in date_ls:\n",
    "        date_dt= month_dt[month_dt['started_date']==date]\n",
    "        for hour in np.arange(start=0, stop= 24, step=2):\n",
    "            hour_dt= date_dt[(date_dt['started_hour']<=hour+1) \n",
    "                             & (date_dt['started_hour']>= hour) \n",
    "                             &(date_dt['ended_hour']<=(hour+2))]\n",
    "            count_hour_dt= hour_dt.groupby(by= ['start_station_id', 'end_station_id'], as_index=False)['ride_id'].count()\n",
    "            for i in range(6):\n",
    "                if (i not in set(count_hour_dt['start_station_id'])) or (i not in set(count_hour_dt['end_station_id'])):\n",
    "                    count_hour_dt = count_hour_dt.append({'start_station_id':i, 'end_station_id':i, 'ride_id':-1},ignore_index=True)\n",
    "            hour_pivot_dt= count_hour_dt.pivot(index='start_station_id', columns='end_station_id')['ride_id'].fillna(0)\n",
    "\n",
    "            hour_pivot_dt[hour_pivot_dt<0] = 0\n",
    "            hour_ls.append(hour)\n",
    "            full_date_ls.append(date)\n",
    "            month_matrix.append(hour_pivot_dt)\n",
    "            hour_pivot_dt.to_csv('data/preprocessed/{d}-{h}.csv'.format(d = date, h=hour))\n"
   ]
  },
  {
   "cell_type": "code",
   "execution_count": 15,
   "id": "3cb49c75",
   "metadata": {
    "colab": {
     "base_uri": "https://localhost:8080/"
    },
    "executionInfo": {
     "elapsed": 6,
     "status": "ok",
     "timestamp": 1650910094084,
     "user": {
      "displayName": "Luoyao Chen",
      "userId": "00843896582985485225"
     },
     "user_tz": 240
    },
    "id": "3cb49c75",
    "outputId": "31485bd3-20f9-4ed5-a907-26d168080b73"
   },
   "outputs": [
    {
     "name": "stdout",
     "output_type": "stream",
     "text": [
      "The autoreload extension is already loaded. To reload it, use:\n",
      "  %reload_ext autoreload\n"
     ]
    }
   ],
   "source": [
    "%load_ext autoreload\n",
    "%autoreload 2\n",
    "from multiprocessing import Pool\n",
    "# from helper1 import transformation"
   ]
  },
  {
   "cell_type": "markdown",
   "id": "1aee0c81",
   "metadata": {
    "id": "1aee0c81"
   },
   "source": [
    "#### Original Version"
   ]
  },
  {
   "cell_type": "code",
   "execution_count": 16,
   "id": "fce9c2bf",
   "metadata": {
    "id": "fce9c2bf",
    "outputId": "8792546b-1a8f-4d7f-a156-a409094b629a",
    "scrolled": false
   },
   "outputs": [
    {
     "name": "stderr",
     "output_type": "stream",
     "text": [
      "C:\\ANACONDA\\lib\\site-packages\\IPython\\core\\interactiveshell.py:3357: DtypeWarning: Columns (6,8) have mixed types.Specify dtype option on import or set low_memory=False.\n",
      "  if (await self.run_code(code, result,  async_=asy)):\n",
      "<ipython-input-14-ce9d7ddeda55>:11: SettingWithCopyWarning: \n",
      "A value is trying to be set on a copy of a slice from a DataFrame.\n",
      "Try using .loc[row_indexer,col_indexer] = value instead\n",
      "\n",
      "See the caveats in the documentation: https://pandas.pydata.org/pandas-docs/stable/user_guide/indexing.html#returning-a-view-versus-a-copy\n",
      "  month_dt['start_station_id']= month_dt['start_station_id'].map(cluster_dict)\n",
      "<ipython-input-14-ce9d7ddeda55>:12: SettingWithCopyWarning: \n",
      "A value is trying to be set on a copy of a slice from a DataFrame.\n",
      "Try using .loc[row_indexer,col_indexer] = value instead\n",
      "\n",
      "See the caveats in the documentation: https://pandas.pydata.org/pandas-docs/stable/user_guide/indexing.html#returning-a-view-versus-a-copy\n",
      "  month_dt['end_station_id']= month_dt['end_station_id'].map(cluster_dict)\n",
      "C:\\ANACONDA\\lib\\site-packages\\IPython\\core\\interactiveshell.py:3357: DtypeWarning: Columns (6,8) have mixed types.Specify dtype option on import or set low_memory=False.\n",
      "  if (await self.run_code(code, result,  async_=asy)):\n",
      "<ipython-input-14-ce9d7ddeda55>:11: SettingWithCopyWarning: \n",
      "A value is trying to be set on a copy of a slice from a DataFrame.\n",
      "Try using .loc[row_indexer,col_indexer] = value instead\n",
      "\n",
      "See the caveats in the documentation: https://pandas.pydata.org/pandas-docs/stable/user_guide/indexing.html#returning-a-view-versus-a-copy\n",
      "  month_dt['start_station_id']= month_dt['start_station_id'].map(cluster_dict)\n",
      "<ipython-input-14-ce9d7ddeda55>:12: SettingWithCopyWarning: \n",
      "A value is trying to be set on a copy of a slice from a DataFrame.\n",
      "Try using .loc[row_indexer,col_indexer] = value instead\n",
      "\n",
      "See the caveats in the documentation: https://pandas.pydata.org/pandas-docs/stable/user_guide/indexing.html#returning-a-view-versus-a-copy\n",
      "  month_dt['end_station_id']= month_dt['end_station_id'].map(cluster_dict)\n",
      "C:\\ANACONDA\\lib\\site-packages\\IPython\\core\\interactiveshell.py:3357: DtypeWarning: Columns (6,8) have mixed types.Specify dtype option on import or set low_memory=False.\n",
      "  if (await self.run_code(code, result,  async_=asy)):\n",
      "<ipython-input-14-ce9d7ddeda55>:11: SettingWithCopyWarning: \n",
      "A value is trying to be set on a copy of a slice from a DataFrame.\n",
      "Try using .loc[row_indexer,col_indexer] = value instead\n",
      "\n",
      "See the caveats in the documentation: https://pandas.pydata.org/pandas-docs/stable/user_guide/indexing.html#returning-a-view-versus-a-copy\n",
      "  month_dt['start_station_id']= month_dt['start_station_id'].map(cluster_dict)\n",
      "<ipython-input-14-ce9d7ddeda55>:12: SettingWithCopyWarning: \n",
      "A value is trying to be set on a copy of a slice from a DataFrame.\n",
      "Try using .loc[row_indexer,col_indexer] = value instead\n",
      "\n",
      "See the caveats in the documentation: https://pandas.pydata.org/pandas-docs/stable/user_guide/indexing.html#returning-a-view-versus-a-copy\n",
      "  month_dt['end_station_id']= month_dt['end_station_id'].map(cluster_dict)\n",
      "C:\\ANACONDA\\lib\\site-packages\\IPython\\core\\interactiveshell.py:3357: DtypeWarning: Columns (8) have mixed types.Specify dtype option on import or set low_memory=False.\n",
      "  if (await self.run_code(code, result,  async_=asy)):\n",
      "<ipython-input-14-ce9d7ddeda55>:11: SettingWithCopyWarning: \n",
      "A value is trying to be set on a copy of a slice from a DataFrame.\n",
      "Try using .loc[row_indexer,col_indexer] = value instead\n",
      "\n",
      "See the caveats in the documentation: https://pandas.pydata.org/pandas-docs/stable/user_guide/indexing.html#returning-a-view-versus-a-copy\n",
      "  month_dt['start_station_id']= month_dt['start_station_id'].map(cluster_dict)\n",
      "<ipython-input-14-ce9d7ddeda55>:12: SettingWithCopyWarning: \n",
      "A value is trying to be set on a copy of a slice from a DataFrame.\n",
      "Try using .loc[row_indexer,col_indexer] = value instead\n",
      "\n",
      "See the caveats in the documentation: https://pandas.pydata.org/pandas-docs/stable/user_guide/indexing.html#returning-a-view-versus-a-copy\n",
      "  month_dt['end_station_id']= month_dt['end_station_id'].map(cluster_dict)\n",
      "C:\\ANACONDA\\lib\\site-packages\\IPython\\core\\interactiveshell.py:3357: DtypeWarning: Columns (8) have mixed types.Specify dtype option on import or set low_memory=False.\n",
      "  if (await self.run_code(code, result,  async_=asy)):\n",
      "<ipython-input-14-ce9d7ddeda55>:11: SettingWithCopyWarning: \n",
      "A value is trying to be set on a copy of a slice from a DataFrame.\n",
      "Try using .loc[row_indexer,col_indexer] = value instead\n",
      "\n",
      "See the caveats in the documentation: https://pandas.pydata.org/pandas-docs/stable/user_guide/indexing.html#returning-a-view-versus-a-copy\n",
      "  month_dt['start_station_id']= month_dt['start_station_id'].map(cluster_dict)\n",
      "<ipython-input-14-ce9d7ddeda55>:12: SettingWithCopyWarning: \n",
      "A value is trying to be set on a copy of a slice from a DataFrame.\n",
      "Try using .loc[row_indexer,col_indexer] = value instead\n",
      "\n",
      "See the caveats in the documentation: https://pandas.pydata.org/pandas-docs/stable/user_guide/indexing.html#returning-a-view-versus-a-copy\n",
      "  month_dt['end_station_id']= month_dt['end_station_id'].map(cluster_dict)\n",
      "C:\\ANACONDA\\lib\\site-packages\\IPython\\core\\interactiveshell.py:3357: DtypeWarning: Columns (8) have mixed types.Specify dtype option on import or set low_memory=False.\n",
      "  if (await self.run_code(code, result,  async_=asy)):\n",
      "<ipython-input-14-ce9d7ddeda55>:11: SettingWithCopyWarning: \n",
      "A value is trying to be set on a copy of a slice from a DataFrame.\n",
      "Try using .loc[row_indexer,col_indexer] = value instead\n",
      "\n",
      "See the caveats in the documentation: https://pandas.pydata.org/pandas-docs/stable/user_guide/indexing.html#returning-a-view-versus-a-copy\n",
      "  month_dt['start_station_id']= month_dt['start_station_id'].map(cluster_dict)\n",
      "<ipython-input-14-ce9d7ddeda55>:12: SettingWithCopyWarning: \n",
      "A value is trying to be set on a copy of a slice from a DataFrame.\n",
      "Try using .loc[row_indexer,col_indexer] = value instead\n",
      "\n",
      "See the caveats in the documentation: https://pandas.pydata.org/pandas-docs/stable/user_guide/indexing.html#returning-a-view-versus-a-copy\n",
      "  month_dt['end_station_id']= month_dt['end_station_id'].map(cluster_dict)\n",
      "C:\\ANACONDA\\lib\\site-packages\\IPython\\core\\interactiveshell.py:3357: DtypeWarning: Columns (8) have mixed types.Specify dtype option on import or set low_memory=False.\n",
      "  if (await self.run_code(code, result,  async_=asy)):\n",
      "<ipython-input-14-ce9d7ddeda55>:11: SettingWithCopyWarning: \n",
      "A value is trying to be set on a copy of a slice from a DataFrame.\n",
      "Try using .loc[row_indexer,col_indexer] = value instead\n",
      "\n",
      "See the caveats in the documentation: https://pandas.pydata.org/pandas-docs/stable/user_guide/indexing.html#returning-a-view-versus-a-copy\n",
      "  month_dt['start_station_id']= month_dt['start_station_id'].map(cluster_dict)\n",
      "<ipython-input-14-ce9d7ddeda55>:12: SettingWithCopyWarning: \n",
      "A value is trying to be set on a copy of a slice from a DataFrame.\n",
      "Try using .loc[row_indexer,col_indexer] = value instead\n",
      "\n",
      "See the caveats in the documentation: https://pandas.pydata.org/pandas-docs/stable/user_guide/indexing.html#returning-a-view-versus-a-copy\n",
      "  month_dt['end_station_id']= month_dt['end_station_id'].map(cluster_dict)\n",
      "C:\\ANACONDA\\lib\\site-packages\\IPython\\core\\interactiveshell.py:3357: DtypeWarning: Columns (8) have mixed types.Specify dtype option on import or set low_memory=False.\n",
      "  if (await self.run_code(code, result,  async_=asy)):\n",
      "<ipython-input-14-ce9d7ddeda55>:11: SettingWithCopyWarning: \n",
      "A value is trying to be set on a copy of a slice from a DataFrame.\n",
      "Try using .loc[row_indexer,col_indexer] = value instead\n",
      "\n",
      "See the caveats in the documentation: https://pandas.pydata.org/pandas-docs/stable/user_guide/indexing.html#returning-a-view-versus-a-copy\n",
      "  month_dt['start_station_id']= month_dt['start_station_id'].map(cluster_dict)\n",
      "<ipython-input-14-ce9d7ddeda55>:12: SettingWithCopyWarning: \n",
      "A value is trying to be set on a copy of a slice from a DataFrame.\n",
      "Try using .loc[row_indexer,col_indexer] = value instead\n",
      "\n",
      "See the caveats in the documentation: https://pandas.pydata.org/pandas-docs/stable/user_guide/indexing.html#returning-a-view-versus-a-copy\n",
      "  month_dt['end_station_id']= month_dt['end_station_id'].map(cluster_dict)\n"
     ]
    },
    {
     "name": "stderr",
     "output_type": "stream",
     "text": [
      "C:\\ANACONDA\\lib\\site-packages\\IPython\\core\\interactiveshell.py:3357: DtypeWarning: Columns (6,8) have mixed types.Specify dtype option on import or set low_memory=False.\n",
      "  if (await self.run_code(code, result,  async_=asy)):\n",
      "<ipython-input-14-ce9d7ddeda55>:11: SettingWithCopyWarning: \n",
      "A value is trying to be set on a copy of a slice from a DataFrame.\n",
      "Try using .loc[row_indexer,col_indexer] = value instead\n",
      "\n",
      "See the caveats in the documentation: https://pandas.pydata.org/pandas-docs/stable/user_guide/indexing.html#returning-a-view-versus-a-copy\n",
      "  month_dt['start_station_id']= month_dt['start_station_id'].map(cluster_dict)\n",
      "<ipython-input-14-ce9d7ddeda55>:12: SettingWithCopyWarning: \n",
      "A value is trying to be set on a copy of a slice from a DataFrame.\n",
      "Try using .loc[row_indexer,col_indexer] = value instead\n",
      "\n",
      "See the caveats in the documentation: https://pandas.pydata.org/pandas-docs/stable/user_guide/indexing.html#returning-a-view-versus-a-copy\n",
      "  month_dt['end_station_id']= month_dt['end_station_id'].map(cluster_dict)\n",
      "C:\\ANACONDA\\lib\\site-packages\\IPython\\core\\interactiveshell.py:3357: DtypeWarning: Columns (6,8) have mixed types.Specify dtype option on import or set low_memory=False.\n",
      "  if (await self.run_code(code, result,  async_=asy)):\n",
      "<ipython-input-14-ce9d7ddeda55>:11: SettingWithCopyWarning: \n",
      "A value is trying to be set on a copy of a slice from a DataFrame.\n",
      "Try using .loc[row_indexer,col_indexer] = value instead\n",
      "\n",
      "See the caveats in the documentation: https://pandas.pydata.org/pandas-docs/stable/user_guide/indexing.html#returning-a-view-versus-a-copy\n",
      "  month_dt['start_station_id']= month_dt['start_station_id'].map(cluster_dict)\n",
      "<ipython-input-14-ce9d7ddeda55>:12: SettingWithCopyWarning: \n",
      "A value is trying to be set on a copy of a slice from a DataFrame.\n",
      "Try using .loc[row_indexer,col_indexer] = value instead\n",
      "\n",
      "See the caveats in the documentation: https://pandas.pydata.org/pandas-docs/stable/user_guide/indexing.html#returning-a-view-versus-a-copy\n",
      "  month_dt['end_station_id']= month_dt['end_station_id'].map(cluster_dict)\n",
      "C:\\ANACONDA\\lib\\site-packages\\IPython\\core\\interactiveshell.py:3357: DtypeWarning: Columns (6,8) have mixed types.Specify dtype option on import or set low_memory=False.\n",
      "  if (await self.run_code(code, result,  async_=asy)):\n",
      "<ipython-input-14-ce9d7ddeda55>:11: SettingWithCopyWarning: \n",
      "A value is trying to be set on a copy of a slice from a DataFrame.\n",
      "Try using .loc[row_indexer,col_indexer] = value instead\n",
      "\n",
      "See the caveats in the documentation: https://pandas.pydata.org/pandas-docs/stable/user_guide/indexing.html#returning-a-view-versus-a-copy\n",
      "  month_dt['start_station_id']= month_dt['start_station_id'].map(cluster_dict)\n",
      "<ipython-input-14-ce9d7ddeda55>:12: SettingWithCopyWarning: \n",
      "A value is trying to be set on a copy of a slice from a DataFrame.\n",
      "Try using .loc[row_indexer,col_indexer] = value instead\n",
      "\n",
      "See the caveats in the documentation: https://pandas.pydata.org/pandas-docs/stable/user_guide/indexing.html#returning-a-view-versus-a-copy\n",
      "  month_dt['end_station_id']= month_dt['end_station_id'].map(cluster_dict)\n"
     ]
    },
    {
     "name": "stdout",
     "output_type": "stream",
     "text": [
      "95.71109747886658\n"
     ]
    }
   ],
   "source": [
    "start = time.time()\n",
    "\n",
    "for p in paths:\n",
    "    create_hour_csv(p)\n",
    "\n",
    "end = time.time()\n",
    "print(end-start)"
   ]
  },
  {
   "cell_type": "code",
   "execution_count": 17,
   "id": "39686a77",
   "metadata": {
    "colab": {
     "base_uri": "https://localhost:8080/"
    },
    "executionInfo": {
     "elapsed": 180753,
     "status": "ok",
     "timestamp": 1650911063729,
     "user": {
      "displayName": "Luoyao Chen",
      "userId": "00843896582985485225"
     },
     "user_tz": 240
    },
    "id": "39686a77",
    "outputId": "6be59771-596f-40f1-9475-3b475f727202"
   },
   "outputs": [
    {
     "name": "stdout",
     "output_type": "stream",
     "text": [
      "24.61065697669983\n"
     ]
    }
   ],
   "source": [
    "start = time.time()\n",
    "with Pool(8) as pool: \n",
    "    re= pool.map(transformation, paths)\n",
    "end = time.time()  \n",
    "\n",
    "print(end-start)"
   ]
  },
  {
   "cell_type": "code",
   "execution_count": 18,
   "id": "fnfofs_qDPO2",
   "metadata": {
    "colab": {
     "base_uri": "https://localhost:8080/"
    },
    "executionInfo": {
     "elapsed": 15825,
     "status": "ok",
     "timestamp": 1650912529006,
     "user": {
      "displayName": "Luoyao Chen",
      "userId": "00843896582985485225"
     },
     "user_tz": 240
    },
    "id": "fnfofs_qDPO2",
    "outputId": "26be9c03-d9f6-4497-d973-76429e38518c"
   },
   "outputs": [],
   "source": [
    "# !zip -r /content/drive/MyDrive/3001_Proj/preprocessed/hour_csv.zip /content/drive/MyDrive/3001_Proj/preprocessed/hour_csv"
   ]
  },
  {
   "cell_type": "code",
   "execution_count": 19,
   "id": "E9LO2TnWFZt0",
   "metadata": {
    "colab": {
     "base_uri": "https://localhost:8080/",
     "height": 17
    },
    "executionInfo": {
     "elapsed": 163,
     "status": "ok",
     "timestamp": 1650913048529,
     "user": {
      "displayName": "Luoyao Chen",
      "userId": "00843896582985485225"
     },
     "user_tz": 240
    },
    "id": "E9LO2TnWFZt0",
    "outputId": "3792c1a6-afde-437b-dad5-395be5b5e26d"
   },
   "outputs": [],
   "source": [
    "# files.download('/content/drive/MyDrive/3001_Proj/preprocessed/hour_csv.zip')"
   ]
  },
  {
   "cell_type": "code",
   "execution_count": null,
   "id": "c0TzfcDhKv0S",
   "metadata": {
    "id": "c0TzfcDhKv0S"
   },
   "outputs": [],
   "source": [
    "# exit()"
   ]
  },
  {
   "cell_type": "code",
   "execution_count": null,
   "id": "8ad47434",
   "metadata": {
    "id": "8ad47434"
   },
   "outputs": [],
   "source": [
    "# for i in range(7):\n",
    "#     if i not in set(count_hour_dt['start_station_id'].unique()):\n",
    "#         count_hour_dt = count_hour_dt.append({'start_station_id':i, 'end_station_id':i, 'ride_id':-2},ignore_index=True)\n",
    "# count_hour_dt\n",
    "# hour_pivot_dt= count_hour_dt.pivot(index='start_station_id', columns='end_station_id')['ride_id'].fillna(0)\n",
    "# hour_pivot_dt"
   ]
  }
 ],
 "metadata": {
  "colab": {
   "collapsed_sections": [],
   "name": "step2_preprocess2.ipynb",
   "provenance": []
  },
  "kernelspec": {
   "display_name": "Python 3",
   "language": "python",
   "name": "python3"
  },
  "language_info": {
   "codemirror_mode": {
    "name": "ipython",
    "version": 3
   },
   "file_extension": ".py",
   "mimetype": "text/x-python",
   "name": "python",
   "nbconvert_exporter": "python",
   "pygments_lexer": "ipython3",
   "version": "3.8.8"
  }
 },
 "nbformat": 4,
 "nbformat_minor": 5
}
